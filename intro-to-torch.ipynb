{
 "cells": [
  {
   "cell_type": "code",
   "execution_count": 1,
   "metadata": {},
   "outputs": [
    {
     "data": {
      "text/plain": [
       "'\\nDataset: stores the samples and corresponding labels.\\nDataloader: put a iterator around the dataset.\\n'"
      ]
     },
     "execution_count": 1,
     "metadata": {},
     "output_type": "execute_result"
    }
   ],
   "source": [
    "\"\"\"\n",
    "Dataset: stores the samples and corresponding labels.\n",
    "Dataloader: put a iterator around the dataset.\n",
    "\"\"\""
   ]
  },
  {
   "cell_type": "code",
   "execution_count": 2,
   "metadata": {},
   "outputs": [],
   "source": [
    "import torch\n",
    "from torch import nn\n",
    "from torch.utils.data import Dataset, DataLoader\n",
    "\n",
    "from torchvision import datasets\n",
    "from torchvision.transforms import ToTensor\n",
    "\n",
    "# pytorch offers domain specific libraries like torchvision, torchaudio, torchtext"
   ]
  },
  {
   "cell_type": "code",
   "execution_count": 12,
   "metadata": {},
   "outputs": [],
   "source": [
    "# download training dataset\n",
    "train_data = datasets.FashionMNIST(root=\"data\", train=True, download=True, transform=ToTensor())\n",
    "test_data = datasets.FashionMNIST(root=\"data\", train=False, download=True, transform=ToTensor())"
   ]
  },
  {
   "cell_type": "code",
   "execution_count": 14,
   "metadata": {},
   "outputs": [
    {
     "data": {
      "text/plain": [
       "Dataset FashionMNIST\n",
       "    Number of datapoints: 60000\n",
       "    Root location: data\n",
       "    Split: Train\n",
       "    StandardTransform\n",
       "Transform: ToTensor()"
      ]
     },
     "execution_count": 14,
     "metadata": {},
     "output_type": "execute_result"
    }
   ],
   "source": [
    "train_data"
   ]
  },
  {
   "cell_type": "code",
   "execution_count": 13,
   "metadata": {},
   "outputs": [
    {
     "data": {
      "text/plain": [
       "Dataset FashionMNIST\n",
       "    Number of datapoints: 10000\n",
       "    Root location: data\n",
       "    Split: Test\n",
       "    StandardTransform\n",
       "Transform: ToTensor()"
      ]
     },
     "execution_count": 13,
     "metadata": {},
     "output_type": "execute_result"
    }
   ],
   "source": [
    "test_data"
   ]
  },
  {
   "cell_type": "code",
   "execution_count": 31,
   "metadata": {},
   "outputs": [
    {
     "name": "stdout",
     "output_type": "stream",
     "text": [
      "60000\n",
      "tensor([[[0.0000, 0.0000, 0.0000, 0.0000, 0.0000, 0.0000, 0.0000, 0.0000,\n",
      "          0.0000, 0.0000, 0.0000, 0.0000, 0.0000, 0.0000, 0.0000, 0.0000,\n",
      "          0.0000, 0.0000, 0.0000, 0.0000, 0.0000, 0.0000, 0.0000, 0.0000,\n",
      "          0.0000, 0.0000, 0.0000, 0.0000],\n",
      "         [0.0000, 0.0000, 0.0000, 0.0000, 0.0000, 0.0000, 0.0000, 0.0000,\n",
      "          0.0000, 0.0000, 0.0000, 0.0000, 0.0000, 0.0000, 0.0000, 0.0000,\n",
      "          0.0000, 0.0000, 0.0000, 0.0000, 0.0000, 0.0000, 0.0000, 0.0000,\n",
      "          0.0000, 0.0000, 0.0000, 0.0000],\n",
      "         [0.0000, 0.0000, 0.0000, 0.0000, 0.0000, 0.0000, 0.0000, 0.0000,\n",
      "          0.0000, 0.0000, 0.0000, 0.0000, 0.0000, 0.0000, 0.0000, 0.0000,\n",
      "          0.0000, 0.0000, 0.0000, 0.0000, 0.0000, 0.0000, 0.0000, 0.0000,\n",
      "          0.0000, 0.0000, 0.0000, 0.0000],\n",
      "         [0.0000, 0.0000, 0.0000, 0.0000, 0.0000, 0.0000, 0.0000, 0.0000,\n",
      "          0.0000, 0.0000, 0.0000, 0.0000, 0.0000, 0.0000, 0.0000, 0.0000,\n",
      "          0.0000, 0.0000, 0.0000, 0.0000, 0.0000, 0.0000, 0.0000, 0.0000,\n",
      "          0.0000, 0.0000, 0.0000, 0.0000],\n",
      "         [0.0000, 0.0000, 0.0000, 0.0000, 0.0000, 0.0000, 0.0000, 0.0000,\n",
      "          0.0000, 0.0000, 0.0000, 0.0000, 0.0000, 0.0000, 0.0000, 0.0000,\n",
      "          0.0000, 0.0000, 0.0000, 0.0000, 0.0000, 0.0000, 0.0000, 0.0000,\n",
      "          0.0000, 0.0000, 0.0000, 0.0000],\n",
      "         [0.0000, 0.0000, 0.0000, 0.0000, 0.0000, 0.0000, 0.0000, 0.0000,\n",
      "          0.0000, 0.0000, 0.0000, 0.0000, 0.0000, 0.0000, 0.0000, 0.0000,\n",
      "          0.0000, 0.0000, 0.0000, 0.0000, 0.0000, 0.0000, 0.0000, 0.0000,\n",
      "          0.0000, 0.0000, 0.0000, 0.0000],\n",
      "         [0.0000, 0.0000, 0.0000, 0.0000, 0.0000, 0.0000, 0.0000, 0.0000,\n",
      "          0.0000, 0.0000, 0.0000, 0.0000, 0.0000, 0.0000, 0.0000, 0.0000,\n",
      "          0.0000, 0.0000, 0.0000, 0.0000, 0.0000, 0.0000, 0.0000, 0.0000,\n",
      "          0.0000, 0.0000, 0.0000, 0.0000],\n",
      "         [0.0000, 0.0000, 0.0000, 0.0000, 0.0000, 0.0000, 0.0000, 0.0000,\n",
      "          0.0000, 0.0000, 0.0000, 0.0000, 0.0000, 0.0000, 0.0000, 0.0000,\n",
      "          0.0000, 0.0000, 0.0000, 0.0118, 0.0039, 0.0000, 0.0000, 0.0275,\n",
      "          0.0000, 0.1451, 0.0000, 0.0000],\n",
      "         [0.0000, 0.0000, 0.0000, 0.0000, 0.0000, 0.0000, 0.0000, 0.0000,\n",
      "          0.0000, 0.0000, 0.0000, 0.0000, 0.0000, 0.0039, 0.0078, 0.0000,\n",
      "          0.1059, 0.3294, 0.0431, 0.0000, 0.0000, 0.0000, 0.0000, 0.0000,\n",
      "          0.0000, 0.4667, 0.0000, 0.0000],\n",
      "         [0.0000, 0.0000, 0.0000, 0.0000, 0.0000, 0.0000, 0.0000, 0.0000,\n",
      "          0.0000, 0.0000, 0.0000, 0.0000, 0.0000, 0.0039, 0.0000, 0.0000,\n",
      "          0.3451, 0.5608, 0.4314, 0.0000, 0.0000, 0.0000, 0.0000, 0.0863,\n",
      "          0.3647, 0.4157, 0.0000, 0.0000],\n",
      "         [0.0000, 0.0000, 0.0000, 0.0000, 0.0000, 0.0000, 0.0000, 0.0000,\n",
      "          0.0000, 0.0000, 0.0000, 0.0000, 0.0000, 0.0157, 0.0000, 0.2078,\n",
      "          0.5059, 0.4706, 0.5765, 0.6863, 0.6157, 0.6510, 0.5294, 0.6039,\n",
      "          0.6588, 0.5490, 0.0000, 0.0000],\n",
      "         [0.0000, 0.0000, 0.0000, 0.0000, 0.0000, 0.0000, 0.0000, 0.0000,\n",
      "          0.0000, 0.0000, 0.0000, 0.0000, 0.0078, 0.0000, 0.0431, 0.5373,\n",
      "          0.5098, 0.5020, 0.6275, 0.6902, 0.6235, 0.6549, 0.6980, 0.5843,\n",
      "          0.5922, 0.5647, 0.0000, 0.0000],\n",
      "         [0.0000, 0.0000, 0.0000, 0.0000, 0.0000, 0.0000, 0.0039, 0.0000,\n",
      "          0.0078, 0.0039, 0.0000, 0.0118, 0.0000, 0.0000, 0.4510, 0.4471,\n",
      "          0.4157, 0.5373, 0.6588, 0.6000, 0.6118, 0.6471, 0.6549, 0.5608,\n",
      "          0.6157, 0.6196, 0.0431, 0.0000],\n",
      "         [0.0000, 0.0000, 0.0000, 0.0000, 0.0039, 0.0000, 0.0000, 0.0000,\n",
      "          0.0000, 0.0000, 0.0118, 0.0000, 0.0000, 0.3490, 0.5451, 0.3529,\n",
      "          0.3686, 0.6000, 0.5843, 0.5137, 0.5922, 0.6627, 0.6745, 0.5608,\n",
      "          0.6235, 0.6627, 0.1882, 0.0000],\n",
      "         [0.0000, 0.0000, 0.0000, 0.0000, 0.0000, 0.0000, 0.0078, 0.0157,\n",
      "          0.0039, 0.0000, 0.0000, 0.0000, 0.3843, 0.5333, 0.4314, 0.4275,\n",
      "          0.4314, 0.6353, 0.5294, 0.5647, 0.5843, 0.6235, 0.6549, 0.5647,\n",
      "          0.6196, 0.6627, 0.4667, 0.0000],\n",
      "         [0.0000, 0.0000, 0.0078, 0.0078, 0.0039, 0.0078, 0.0000, 0.0000,\n",
      "          0.0000, 0.0000, 0.1020, 0.4235, 0.4588, 0.3882, 0.4353, 0.4588,\n",
      "          0.5333, 0.6118, 0.5255, 0.6039, 0.6039, 0.6118, 0.6275, 0.5529,\n",
      "          0.5765, 0.6118, 0.6980, 0.0000],\n",
      "         [0.0118, 0.0000, 0.0000, 0.0000, 0.0000, 0.0000, 0.0000, 0.0824,\n",
      "          0.2078, 0.3608, 0.4588, 0.4353, 0.4039, 0.4510, 0.5059, 0.5255,\n",
      "          0.5608, 0.6039, 0.6471, 0.6667, 0.6039, 0.5922, 0.6039, 0.5608,\n",
      "          0.5412, 0.5882, 0.6471, 0.1686],\n",
      "         [0.0000, 0.0000, 0.0902, 0.2118, 0.2549, 0.2980, 0.3333, 0.4627,\n",
      "          0.5020, 0.4824, 0.4353, 0.4431, 0.4627, 0.4980, 0.4902, 0.5451,\n",
      "          0.5216, 0.5333, 0.6275, 0.5490, 0.6078, 0.6314, 0.5647, 0.6078,\n",
      "          0.6745, 0.6314, 0.7412, 0.2431],\n",
      "         [0.0000, 0.2667, 0.3686, 0.3529, 0.4353, 0.4471, 0.4353, 0.4471,\n",
      "          0.4510, 0.4980, 0.5294, 0.5333, 0.5608, 0.4941, 0.4980, 0.5922,\n",
      "          0.6039, 0.5608, 0.5804, 0.4902, 0.6353, 0.6353, 0.5647, 0.5412,\n",
      "          0.6000, 0.6353, 0.7686, 0.2275],\n",
      "         [0.2745, 0.6627, 0.5059, 0.4078, 0.3843, 0.3922, 0.3686, 0.3804,\n",
      "          0.3843, 0.4000, 0.4235, 0.4157, 0.4667, 0.4706, 0.5059, 0.5843,\n",
      "          0.6118, 0.6549, 0.7451, 0.7451, 0.7686, 0.7765, 0.7765, 0.7333,\n",
      "          0.7725, 0.7412, 0.7216, 0.1412],\n",
      "         [0.0627, 0.4941, 0.6706, 0.7373, 0.7373, 0.7216, 0.6706, 0.6000,\n",
      "          0.5294, 0.4706, 0.4941, 0.4980, 0.5725, 0.7255, 0.7647, 0.8196,\n",
      "          0.8157, 1.0000, 0.8196, 0.6941, 0.9608, 0.9882, 0.9843, 0.9843,\n",
      "          0.9686, 0.8627, 0.8078, 0.1922],\n",
      "         [0.0000, 0.0000, 0.0000, 0.0471, 0.2627, 0.4157, 0.6431, 0.7255,\n",
      "          0.7804, 0.8235, 0.8275, 0.8235, 0.8157, 0.7451, 0.5882, 0.3216,\n",
      "          0.0314, 0.0000, 0.0000, 0.0000, 0.6980, 0.8157, 0.7373, 0.6863,\n",
      "          0.6353, 0.6196, 0.5922, 0.0431],\n",
      "         [0.0000, 0.0000, 0.0000, 0.0000, 0.0000, 0.0000, 0.0000, 0.0000,\n",
      "          0.0000, 0.0000, 0.0000, 0.0000, 0.0000, 0.0000, 0.0000, 0.0000,\n",
      "          0.0000, 0.0000, 0.0000, 0.0000, 0.0000, 0.0000, 0.0000, 0.0000,\n",
      "          0.0000, 0.0000, 0.0000, 0.0000],\n",
      "         [0.0000, 0.0000, 0.0000, 0.0000, 0.0000, 0.0000, 0.0000, 0.0000,\n",
      "          0.0000, 0.0000, 0.0000, 0.0000, 0.0000, 0.0000, 0.0000, 0.0000,\n",
      "          0.0000, 0.0000, 0.0000, 0.0000, 0.0000, 0.0000, 0.0000, 0.0000,\n",
      "          0.0000, 0.0000, 0.0000, 0.0000],\n",
      "         [0.0000, 0.0000, 0.0000, 0.0000, 0.0000, 0.0000, 0.0000, 0.0000,\n",
      "          0.0000, 0.0000, 0.0000, 0.0000, 0.0000, 0.0000, 0.0000, 0.0000,\n",
      "          0.0000, 0.0000, 0.0000, 0.0000, 0.0000, 0.0000, 0.0000, 0.0000,\n",
      "          0.0000, 0.0000, 0.0000, 0.0000],\n",
      "         [0.0000, 0.0000, 0.0000, 0.0000, 0.0000, 0.0000, 0.0000, 0.0000,\n",
      "          0.0000, 0.0000, 0.0000, 0.0000, 0.0000, 0.0000, 0.0000, 0.0000,\n",
      "          0.0000, 0.0000, 0.0000, 0.0000, 0.0000, 0.0000, 0.0000, 0.0000,\n",
      "          0.0000, 0.0000, 0.0000, 0.0000],\n",
      "         [0.0000, 0.0000, 0.0000, 0.0000, 0.0000, 0.0000, 0.0000, 0.0000,\n",
      "          0.0000, 0.0000, 0.0000, 0.0000, 0.0000, 0.0000, 0.0000, 0.0000,\n",
      "          0.0000, 0.0000, 0.0000, 0.0000, 0.0000, 0.0000, 0.0000, 0.0000,\n",
      "          0.0000, 0.0000, 0.0000, 0.0000],\n",
      "         [0.0000, 0.0000, 0.0000, 0.0000, 0.0000, 0.0000, 0.0000, 0.0000,\n",
      "          0.0000, 0.0000, 0.0000, 0.0000, 0.0000, 0.0000, 0.0000, 0.0000,\n",
      "          0.0000, 0.0000, 0.0000, 0.0000, 0.0000, 0.0000, 0.0000, 0.0000,\n",
      "          0.0000, 0.0000, 0.0000, 0.0000]]])\n",
      "tensor([9, 2, 1, 1, 6, 1, 4, 6, 5, 7, 4, 5, 7, 3, 4, 1, 2, 4, 8, 0, 2, 5, 7, 9,\n",
      "        1, 4, 6, 0, 9, 3, 8, 8])\n",
      "torch.Size([32, 1, 28, 28])\n",
      "torch.Size([32]) torch.int64\n"
     ]
    }
   ],
   "source": [
    "train_dataloader = DataLoader(train_data, batch_size=32) \n",
    "test_dataloader = DataLoader(test_data, batch_size=32)\n",
    "\n",
    "print(f\"{len(train_dataloader.dataset)}\")\n",
    "\n",
    "for X, y in test_dataloader:\n",
    "    print(X[0])\n",
    "    print(y)\n",
    "    print(X.shape)\n",
    "    print(y.shape, y.dtype)\n",
    "    break"
   ]
  },
  {
   "cell_type": "code",
   "execution_count": 32,
   "metadata": {},
   "outputs": [
    {
     "name": "stdout",
     "output_type": "stream",
     "text": [
      "10\n",
      "3\n",
      "name Nand\n",
      "id 1530\n",
      "age 25\n",
      "-------\n",
      "name gpu\n",
      "model 4070\n",
      "release_date 2024\n",
      "-------\n"
     ]
    }
   ],
   "source": [
    "# Understanding *args and *kwargs\n",
    "# *   > args: positional arguments [packed into a tuple]\n",
    "# **  > kwargs: keyword arguments [packed into a dictionary]\n",
    "\n",
    "# when *used in front of an iterable (like list or touple) > * unpacks the items. \n",
    "# when **used in front of a dictionary > ** unpacks the key, values. \n",
    "\n",
    "def add_nums(*args):\n",
    "    print(sum(args)) # sum fn take a iterator\n",
    "\n",
    "add_nums( 1,2,3,4 )\n",
    "add_nums( 1,2 )\n",
    "\n",
    "\n",
    "def get_info(**kwargs):\n",
    "    for k,v in kwargs.items():\n",
    "        print(k,v)\n",
    "    print(\"-------\")\n",
    "\n",
    "get_info(name=\"Nand\", id=1530, age=\"25\")\n",
    "get_info(name=\"gpu\", model=4070, release_date=2024)"
   ]
  },
  {
   "cell_type": "code",
   "execution_count": 33,
   "metadata": {},
   "outputs": [
    {
     "name": "stdout",
     "output_type": "stream",
     "text": [
      "Model(\n",
      "  (flatten): Flatten(start_dim=1, end_dim=-1)\n",
      "  (linear_relu_stack): Sequential(\n",
      "    (0): Linear(in_features=784, out_features=512, bias=True)\n",
      "    (1): ReLU()\n",
      "    (2): Linear(in_features=512, out_features=512, bias=True)\n",
      "    (3): ReLU()\n",
      "    (4): Linear(in_features=512, out_features=10, bias=True)\n",
      "  )\n",
      ")\n"
     ]
    }
   ],
   "source": [
    "device = 'cuda'\n",
    "\n",
    "# to define a nn in pytorch, we create a class that inherits from mm.Module.\n",
    "# We define the layers of the network in the __init__ fn.\n",
    "# We specify how the data will pass through the network in the forward fn.\n",
    "  \n",
    "\n",
    "class Model(nn.Module):\n",
    "\n",
    "    # __init__ is a method who is the initializer of a class.\n",
    "    # It is called when we create an instance of that class.\n",
    "    # basically, it defines the setup of the Model class.\n",
    "\n",
    "    # super.__init__ calls the initilizer of the parent class (nn.Module) so it can set all the necessary internals for Model.\n",
    "    # without this, Model will not be able to use the built-in functionalities of nn.Module\n",
    "\n",
    "    # def __init__(self, *args, **kwargs):\n",
    "    #     super().__init__(*args, **kwargs)\n",
    "\n",
    "    def __init__(self):\n",
    "        super().__init__()\n",
    "        self.flatten = nn.Flatten()\n",
    "        self.linear_relu_stack = nn.Sequential(\n",
    "            nn.Linear(28*28, 512),\n",
    "            nn.ReLU(),\n",
    "            nn.Linear(512, 512),\n",
    "            nn.ReLU(),\n",
    "            nn.Linear(512, 10)\n",
    "        )\n",
    "    \n",
    "    def forward(self, x):\n",
    "        x = self.flatten(x)\n",
    "        logits = self.linear_relu_stack(x)\n",
    "\n",
    "        # logits: Raw, Unnormalized scores produced by final layer of a nn.\n",
    "        # logits: word came from statistics, where it is refers to log-odds function. \n",
    "        # After that we apply (i.e. softmax) and convert logits into probabilities.\n",
    "        # IMPORTANT 1: many loss functions (like CrossEntropyLoss) expect logits instead of probs because computations are more numerically stable.\n",
    "        # IMPORTANT 2: logits allow flexibity in deciding how to normalize the outputs. (for binay> apply Sigmoid  | for multiclass> apply softmax)\n",
    "\n",
    "        #\n",
    "\n",
    "        return logits\n",
    "\n",
    "model = Model().to(device)\n",
    "print(model)\n"
   ]
  },
  {
   "cell_type": "code",
   "execution_count": null,
   "metadata": {},
   "outputs": [],
   "source": [
    "loss_fn = nn.CrossEntropyLoss()\n",
    "optimizer = torch.optim.SGD(model.parameters(), lr=0.001)\n",
    "\n",
    "\n",
    "# in training apply softmax: For calculating loss\n",
    "# in testing/inference: No need for Softmax, use Argmax. (faster)\n",
    "\n",
    "def train(dataloader, model, loss_fn, optimizer):\n",
    "    size = len(dataloader.dataset)\n",
    "    model.train()\n",
    "\n",
    "    for current_batch_id, (X, y) in enumerate(dataloader):\n",
    "        X, y = X.to(device), y.to(device)\n",
    "        pred = model(X)\n",
    "        loss = loss_fn(pred, y)\n",
    "        loss.backward()\n",
    "        optimizer.step()\n",
    "        optimizer.zero_grad()\n",
    "\n",
    "        if current_batch_id%100000 == 0 or current_batch_id == len(dataloader)-1:\n",
    "            current = (current_batch_id+1)*len(X)\n",
    "            print(f\"Loss: {loss.item():0.4f} | {current=}/{size}\")\n",
    "\n",
    "def test(dataloader, model, loss_fn):\n",
    "    size = len(dataloader.dataset)\n",
    "    num_batches = len(dataloader)\n",
    "    model.eval()\n",
    "\n",
    "    test_loss, correct = 0, 0\n",
    "    with torch.no_grad():\n",
    "        for X, y in dataloader:\n",
    "            X, y = X.to(device), y.to(device)\n",
    "            pred = model(X)\n",
    "            test_loss += loss_fn(pred, y).item()\n",
    "            correct += (pred.argmax(1)==y).type(torch.float).sum().item()\n",
    "    \n",
    "    test_loss /= num_batches\n",
    "    correct /= size\n",
    "    print(f\"Test Error: [Correct:{correct*100:0.3f}%] | [AvgLoss: {test_loss:>2f}]\")\n",
    "\n",
    "\n",
    "epochs = 50\n",
    "for epoch in range(epochs):\n",
    "    print(\"Epoch: \", epoch+1, \"\\t\")\n",
    "    train(train_dataloader, model, loss_fn, optimizer)\n",
    "    test(test_dataloader, model, loss_fn)\n"
   ]
  },
  {
   "cell_type": "code",
   "execution_count": 42,
   "metadata": {},
   "outputs": [],
   "source": [
    "torch.save(model.state_dict(), 'model_500.pth')"
   ]
  },
  {
   "cell_type": "code",
   "execution_count": 43,
   "metadata": {},
   "outputs": [
    {
     "data": {
      "text/plain": [
       "<All keys matched successfully>"
      ]
     },
     "execution_count": 43,
     "metadata": {},
     "output_type": "execute_result"
    }
   ],
   "source": [
    "model2 = Model().to(device)\n",
    "model2.load_state_dict(torch.load('model_500.pth', weights_only=True))"
   ]
  },
  {
   "cell_type": "code",
   "execution_count": 46,
   "metadata": {},
   "outputs": [
    {
     "data": {
      "text/plain": [
       "2"
      ]
     },
     "execution_count": 46,
     "metadata": {},
     "output_type": "execute_result"
    }
   ],
   "source": [
    "len(test_data[0])"
   ]
  },
  {
   "cell_type": "code",
   "execution_count": 51,
   "metadata": {},
   "outputs": [
    {
     "name": "stdout",
     "output_type": "stream",
     "text": [
      "9 tensor(9, device='cuda:0')\n"
     ]
    }
   ],
   "source": [
    "model.eval()\n",
    "x, y = test_data[0]\n",
    "\n",
    "with torch.no_grad():\n",
    "    x = x.to(device)\n",
    "    pred = model2(x)\n",
    "\n",
    "print(y, pred[0].argmax())"
   ]
  },
  {
   "cell_type": "markdown",
   "metadata": {},
   "source": [
    "## Tensors"
   ]
  },
  {
   "cell_type": "code",
   "execution_count": 62,
   "metadata": {},
   "outputs": [
    {
     "name": "stdout",
     "output_type": "stream",
     "text": [
      "tensor([[  1,   2, 101],\n",
      "        [  3,   4, 102]]) torch.int64 torch.Size([2, 3]) cpu\n",
      "[[  1   2 101]\n",
      " [  3   4 102]] int64 (2, 3)\n",
      "tensor([[  1,   2, 101],\n",
      "        [  3,   4, 102]]) torch.int64 torch.Size([2, 3])\n"
     ]
    }
   ],
   "source": [
    "# Tensors: similar to numpy array or matrices\n",
    "# in pytorch, tensors are used to encode the input and output of a model, also params of the model.\n",
    "\n",
    "# attributes of tensor: shape, dtype, device,....\n",
    "\n",
    "import torch\n",
    "import numpy as np\n",
    "\n",
    "data = [\n",
    "    [1,2, 101],\n",
    "    [3,4, 102]\n",
    "]\n",
    "x = torch.tensor(data)\n",
    "print(x, x.dtype, x.shape, x.device) # by default tensors are created on CPU\n",
    "\n",
    "n = np.array(data)\n",
    "print(n, n.dtype, n.shape)\n",
    "\n",
    "y = torch.from_numpy(n)\n",
    "print(y, y.dtype, y.shape)"
   ]
  },
  {
   "cell_type": "code",
   "execution_count": 102,
   "metadata": {},
   "outputs": [
    {
     "name": "stdout",
     "output_type": "stream",
     "text": [
      "tensor([[1, 1, 1],\n",
      "        [1, 1, 1]]) torch.int64 torch.Size([2, 3]) torch.Size([2, 3])\n",
      "tensor([[0.0020, 0.7559, 0.5122],\n",
      "        [0.3179, 0.5293, 0.9502]], dtype=torch.float16) torch.float16 torch.Size([2, 3])\n"
     ]
    }
   ],
   "source": [
    "# new tensor can retain the properties (shape, datatype) of the argument tensor, unless explicitly overriden.\n",
    "# shape is an alias for .size() and was added to match numpy\n",
    "z = torch.ones_like(x)\n",
    "print(z, z.dtype, z.shape, z.size())\n",
    "\n",
    "w = torch.rand_like(x, dtype=torch.float16)\n",
    "print(w, w.dtype, w.shape)"
   ]
  },
  {
   "cell_type": "code",
   "execution_count": 65,
   "metadata": {},
   "outputs": [
    {
     "name": "stdout",
     "output_type": "stream",
     "text": [
      "tensor([[  1,   2, 101],\n",
      "        [  3,   4, 102]])\n",
      "tensor([  1,   2, 101])\n",
      "tensor([1, 3])\n",
      "tensor([[  1,  69, 101],\n",
      "        [  3,  69, 102]])\n"
     ]
    }
   ],
   "source": [
    "# indexing and slicing\n",
    "print(x)\n",
    "print(x[0]) # row\n",
    "print(x[:,0]) # col\n",
    "\n",
    "x[:, 1] = 69\n",
    "print(x)"
   ]
  },
  {
   "cell_type": "code",
   "execution_count": 81,
   "metadata": {},
   "outputs": [
    {
     "name": "stdout",
     "output_type": "stream",
     "text": [
      "tensor([[  1,  69, 101],\n",
      "        [  3,  69, 102]])\n",
      "torch.Size([2, 3])\n",
      "tensor([[  1,  69, 101],\n",
      "        [  3,  69, 102],\n",
      "        [  1,  69, 101],\n",
      "        [  3,  69, 102]])\n",
      "tensor([[  1,  69, 101,   1,  69, 101],\n",
      "        [  3,  69, 102,   3,  69, 102]])\n",
      "tensor([[[  1,  69, 101],\n",
      "         [  3,  69, 102]],\n",
      "\n",
      "        [[  1,  69, 101],\n",
      "         [  3,  69, 102]]]) torch.Size([2, 2, 3])\n",
      "tensor([[[  1,   1],\n",
      "         [ 69,  69],\n",
      "         [101, 101]],\n",
      "\n",
      "        [[  3,   3],\n",
      "         [ 69,  69],\n",
      "         [102, 102]]]) torch.Size([2, 3, 2])\n"
     ]
    }
   ],
   "source": [
    "# joining tensors\n",
    "\n",
    "# cat: concatenate the given sequence along an exisitng dimension.\n",
    "# stack: concatenate the givem sequence along a new dimension.\n",
    "print(x)\n",
    "print(x.shape)\n",
    "\n",
    "a = torch.cat([x, x], dim=0)\n",
    "print(a)\n",
    "b = torch.cat([x, x], dim=1)\n",
    "print(b)\n",
    "\n",
    "\n",
    "c = torch.stack([x, x])\n",
    "print(c, c.shape)\n",
    "d = torch.stack([x, x], dim=-1) # so many possible dims...\n",
    "print(d, d.shape)"
   ]
  },
  {
   "cell_type": "code",
   "execution_count": 85,
   "metadata": {},
   "outputs": [
    {
     "name": "stdout",
     "output_type": "stream",
     "text": [
      "tensor([[14963, 15066],\n",
      "        [15066, 15174]])\n",
      "tensor([[14963, 15066],\n",
      "        [15066, 15174]])\n",
      "tensor([[  1,   4,   9],\n",
      "        [  0,   1,   4],\n",
      "        [100, 121, 144]])\n",
      "tensor([[  1,   4,   9],\n",
      "        [  0,   1,   4],\n",
      "        [100, 121, 144]])\n"
     ]
    }
   ],
   "source": [
    "# matrix multiplication: @\n",
    "# element wise multiplication: *\n",
    "y1 = x @ x.T\n",
    "y2 = x.matmul(x.T) # same thing\n",
    "\n",
    "print(y1)\n",
    "print(y2)\n",
    "\n",
    "p = torch.tensor(\n",
    "    [[1,2,3],\n",
    "     [0,1,2],\n",
    "     [10,11,12]]\n",
    ")\n",
    "\n",
    "z1 = p * p\n",
    "z2 = p.mul(p)\n",
    "\n",
    "print(z1)\n",
    "print(z2)"
   ]
  },
  {
   "cell_type": "code",
   "execution_count": 86,
   "metadata": {},
   "outputs": [
    {
     "name": "stdout",
     "output_type": "stream",
     "text": [
      "tensor(42) torch.int64 torch.Size([])\n",
      "42 <class 'int'>\n"
     ]
    }
   ],
   "source": [
    "# single element tensor\n",
    "sum = p.sum()\n",
    "print(sum, sum.dtype, sum.shape)\n",
    "sum_value = sum.item()\n",
    "print(sum_value, type(sum_value))"
   ]
  },
  {
   "cell_type": "code",
   "execution_count": 88,
   "metadata": {},
   "outputs": [
    {
     "name": "stdout",
     "output_type": "stream",
     "text": [
      "tensor([[ 6,  5, 15],\n",
      "        [ 7,  6, 16],\n",
      "        [ 8,  7, 17]])\n",
      "tensor([[11, 10, 20],\n",
      "        [12, 11, 21],\n",
      "        [13, 12, 22]])\n",
      "tensor([[11, 12, 13],\n",
      "        [10, 11, 12],\n",
      "        [20, 21, 22]])\n"
     ]
    }
   ],
   "source": [
    "# in-place operatrions\n",
    "# these are denoted by a suffix \"_\"\n",
    "# in-place operatives save some meory, but also can be problematic when computing derivatives becuase of immediate loss of history. \n",
    "\n",
    "print(p)\n",
    "p.add_(5)\n",
    "print(p)\n",
    "p.t_()\n",
    "print(p)"
   ]
  },
  {
   "cell_type": "code",
   "execution_count": 91,
   "metadata": {},
   "outputs": [
    {
     "name": "stdout",
     "output_type": "stream",
     "text": [
      "tensor([1., 1., 1., 1., 1.]) torch.float32\n",
      "[1. 1. 1. 1. 1.] float32\n",
      "tensor([70., 70., 70., 70., 70.])\n",
      "[70. 70. 70. 70. 70.]\n"
     ]
    }
   ],
   "source": [
    "# bridge with numpy\n",
    "# tensor on the CPU and numpy arrays share their underlying memory locations.\n",
    "# that means, change in one with reflect the same in other.\n",
    "\n",
    "a_tensor = torch.ones(5)\n",
    "print(a_tensor, a_tensor.dtype)\n",
    "b_numpy = a_tensor.numpy()\n",
    "print(b_numpy, b_numpy.dtype)\n",
    "\n",
    "a_tensor.add_(69)\n",
    "print(a_tensor)\n",
    "print(b_numpy)\n",
    "\n",
    "# same thing with happen when converting a numpy to tensor.\n"
   ]
  },
  {
   "cell_type": "markdown",
   "metadata": {},
   "source": [
    "## Dataset and Dataloader"
   ]
  },
  {
   "cell_type": "code",
   "execution_count": 113,
   "metadata": {},
   "outputs": [],
   "source": [
    "# Dataset: stores the samples and their corresponding laebls\n",
    "# Dataloader: wraps an iterable around the dataset.\n",
    "\n",
    "import torch\n",
    "from torch.utils.data import Dataset\n",
    "from torchvision import datasets\n",
    "from torchvision.transforms import ToTensor\n",
    "import matplotlib.pyplot as plt\n",
    "\n",
    "train_data = datasets.FashionMNIST(\n",
    "    root=\"data\", # root: path where data is stored\n",
    "    train=True, # specifies the split (train or test)\n",
    "    download=True, # download if not available in root\n",
    "    transform=ToTensor() # features and label transformation\n",
    ")\n",
    "test_data = datasets.FashionMNIST(\n",
    "    root=\"data\",\n",
    "    train=False,\n",
    "    download=True,\n",
    "    transform=ToTensor()\n",
    ")"
   ]
  },
  {
   "cell_type": "code",
   "execution_count": 93,
   "metadata": {},
   "outputs": [
    {
     "data": {
      "text/plain": [
       "Dataset FashionMNIST\n",
       "    Number of datapoints: 60000\n",
       "    Root location: data\n",
       "    Split: Train\n",
       "    StandardTransform\n",
       "Transform: ToTensor()"
      ]
     },
     "execution_count": 93,
     "metadata": {},
     "output_type": "execute_result"
    }
   ],
   "source": [
    "train_data"
   ]
  },
  {
   "cell_type": "code",
   "execution_count": 94,
   "metadata": {},
   "outputs": [
    {
     "data": {
      "text/plain": [
       "Dataset FashionMNIST\n",
       "    Number of datapoints: 10000\n",
       "    Root location: data\n",
       "    Split: Test\n",
       "    StandardTransform\n",
       "Transform: ToTensor()"
      ]
     },
     "execution_count": 94,
     "metadata": {},
     "output_type": "execute_result"
    }
   ],
   "source": [
    "test_data"
   ]
  },
  {
   "cell_type": "code",
   "execution_count": 97,
   "metadata": {},
   "outputs": [
    {
     "data": {
      "image/png": "[encoded data removed]",
      "text/plain": [
       "<Figure size 800x800 with 9 Axes>"
      ]
     },
     "metadata": {},
     "output_type": "display_data"
    }
   ],
   "source": [
    "labels_map = {\n",
    "    0: \"T-Shirt\",\n",
    "    1: \"Trouser\",\n",
    "    2: \"Pullover\",\n",
    "    3: \"Dress\",\n",
    "    4: \"Coat\",\n",
    "    5: \"Sandal\",\n",
    "    6: \"Shirt\",\n",
    "    7: \"Sneaker\",\n",
    "    8: \"Bag\",\n",
    "    9: \"Ankle Boot\",\n",
    "}\n",
    "fig = plt.figure(figsize=(8,8))\n",
    "rows, cols = 3,3\n",
    "for i in range(1, rows*cols+1):\n",
    "    sample_idx = torch.randint(len(train_data), size=(1,)).item()\n",
    "    img, label = train_data[sample_idx]\n",
    "    fig.add_subplot(rows, cols, i)\n",
    "    plt.title(labels_map[label])\n",
    "    plt.axis(\"off\")\n",
    "    plt.imshow(img.squeeze(), cmap=\"gray\")\n",
    "plt.show()"
   ]
  },
  {
   "cell_type": "code",
   "execution_count": 105,
   "metadata": {},
   "outputs": [
    {
     "name": "stdout",
     "output_type": "stream",
     "text": [
      "torch.Size([1, 28, 28])\n",
      "torch.Size([28, 28])\n"
     ]
    }
   ],
   "source": [
    "# squeeze: return a tensor with all the specified dims of input but remove the size 1.\n",
    "# input shape of tensor: 1xAxBx1xCx2 > squeeze > AxBxCx2\n",
    "# when dim of squeeze is given then remaining unchanged: Ax1xB > squeeze(dim=0) > Ax1xB\n",
    "#                                                        Ax1xB > squeeze(dim=1) > AxB\n",
    "\n",
    "sample_img = train_data[10][0]\n",
    "print(sample_img.shape)\n",
    "t = sample_img.squeeze(dim=0)\n",
    "print(t.size())"
   ]
  },
  {
   "cell_type": "code",
   "execution_count": 106,
   "metadata": {},
   "outputs": [],
   "source": [
    "# Custom Dataset\n",
    "# must implement: __init__, __len__, __getitem__\n",
    "\n",
    "# imagese are stored in img_dir\n",
    "# labels in annotations_file\n",
    "\n",
    "import os\n",
    "import pandas as pd\n",
    "from torchvision.io import read_image\n",
    "\n",
    "class CustomDataset(Dataset):\n",
    "    def __init__(self, annotations_file, img_dir, transform=None, target_transform=None):\n",
    "        super().__init__()\n",
    "        self.img_labels = pd.read_csv(annotations_file)\n",
    "        self.img_dir = img_dir\n",
    "        self.transform = transform\n",
    "        self.target_transform = target_transform\n",
    "    \n",
    "    def __len__(self):\n",
    "        # Returns no of samples in dataset\n",
    "        return len(self.img_labels)\n",
    "\n",
    "    def __getitem__(self, index):\n",
    "        # loads and returns a single sample from dataset at the given index\n",
    "        img_path = os.path.join(self.img_dir, self.img_labels.iloc[index, 0])\n",
    "        img = read_image(img_path)\n",
    "        label = self.img_labels.iloc[index, 1]\n",
    "        if self.transform:\n",
    "            img = self.transform(img)\n",
    "        if self.target_transform:\n",
    "            label = self.target_transform(label)\n",
    "        return img, label"
   ]
  },
  {
   "cell_type": "code",
   "execution_count": null,
   "metadata": {},
   "outputs": [],
   "source": [
    "from torch.utils.data import DataLoader\n",
    "\n",
    "train_data = datasets.FashionMNIST(\n",
    "    root=\"raw_data\", # root: path where data is stored\n",
    "    train=True, # specifies the split (train or test)\n",
    "    download=True, # download if not available in root\n",
    "    # transform=ToTensor() # features and label transformation\n",
    ")\n",
    "test_data = datasets.FashionMNIST(\n",
    "    root=\"raw_data\",\n",
    "    train=False,\n",
    "    download=True,\n",
    "    # transform=ToTensor()\n",
    ")\n",
    "\n",
    "\n",
    "batch_size = 4\n",
    "\n",
    "train_dataset = CustomDataset(\"train_labels.csv\", \"train_images/\")\n",
    "train_dataloader = DataLoader(train_dataset, batch_size=batch_size, shuffle=True) # shuffle: reshuffling at every epoch to reduce model overfitting\n"
   ]
  },
  {
   "cell_type": "code",
   "execution_count": 115,
   "metadata": {},
   "outputs": [],
   "source": [
    "train_dataloader = DataLoader(train_data, batch_size=32, shuffle=True)\n",
    "test_dataloader = DataLoader(test_data, batch_size=32, shuffle=True)"
   ]
  },
  {
   "cell_type": "code",
   "execution_count": 134,
   "metadata": {},
   "outputs": [
    {
     "name": "stdout",
     "output_type": "stream",
     "text": [
      "torch.Size([32, 1, 28, 28]) torch.Size([32])\n"
     ]
    },
    {
     "data": {
      "image/png": "[encoded data removed]",
      "text/plain": [
       "<Figure size 640x480 with 1 Axes>"
      ]
     },
     "metadata": {},
     "output_type": "display_data"
    }
   ],
   "source": [
    "# iterate through the dataset.\n",
    "# each iteration returns a batch of train features and labels.\n",
    "\n",
    "sample_batch_images, sample_batch_labels = next(iter(train_dataloader))\n",
    "print(sample_batch_images.shape, sample_batch_labels.shape)\n",
    "sample_example_feat, label = sample_batch_images[12], sample_batch_labels[12]\n",
    "\n",
    "plt.title(label)\n",
    "plt.imshow(sample_example_feat.squeeze(), cmap=\"gray\")\n",
    "plt.show()"
   ]
  },
  {
   "cell_type": "markdown",
   "metadata": {},
   "source": [
    "## Build the NN"
   ]
  },
  {
   "cell_type": "code",
   "execution_count": 136,
   "metadata": {},
   "outputs": [
    {
     "name": "stdout",
     "output_type": "stream",
     "text": [
      "torch.cuda.is_bf16_supported()=True\n"
     ]
    }
   ],
   "source": [
    "# torch.nn provides namespace all the building blcks to build any nn.\n",
    "# nn.Module > its a module that consists of other modules(layers). This nested structure allows for building and managing complex architectures easily.\n",
    "\n",
    "import torch\n",
    "from torch import nn\n",
    "from torch.utils.data import DataLoader\n",
    "from torchvision import datasets, transforms\n",
    "\n",
    "if torch.cuda.is_available():\n",
    "    device = 'cuda'\n",
    "\n",
    "print(f\"{torch.cuda.is_bf16_supported()=}\")\n",
    "    "
   ]
  },
  {
   "cell_type": "code",
   "execution_count": 145,
   "metadata": {},
   "outputs": [
    {
     "data": {
      "text/plain": [
       "Model(\n",
       "  (flatten): Flatten(start_dim=1, end_dim=-1)\n",
       "  (linear_relu_stack): Sequential(\n",
       "    (0): Linear(in_features=784, out_features=512, bias=True)\n",
       "    (1): ReLU()\n",
       "    (2): Linear(in_features=512, out_features=512, bias=True)\n",
       "    (3): ReLU()\n",
       "    (4): Linear(in_features=512, out_features=10, bias=True)\n",
       "  )\n",
       ")"
      ]
     },
     "execution_count": 145,
     "metadata": {},
     "output_type": "execute_result"
    }
   ],
   "source": [
    "# we initialize the nn layers in __init__\n",
    "# every nn.Module subclass implements the operation on input data in 'forward' method\n",
    "\n",
    "# nn.Sequential: ordered container of modules. Data is passed through all the modules in the same order as defined.\n",
    "\n",
    "class Model(nn.Module):\n",
    "    def __init__(self):\n",
    "        super().__init__()\n",
    "        self.flatten = nn.Flatten() # converts 28*28 matrix image into 784 single vector\n",
    "        self.linear_relu_stack = nn.Sequential(\n",
    "            nn.Linear(28*28, 512), # applies a linear trasnformation: [y=x*W_T + b]\n",
    "            nn.ReLU(), # aaplies relu (rectified linear unit) element wise \n",
    "            nn.Linear(512, 512),\n",
    "            nn.ReLU(),\n",
    "            nn.Linear(512, 10),\n",
    "        )\n",
    "    \n",
    "    def forward(self, x):\n",
    "        x = self.flatten(x)\n",
    "        logits = self.linear_relu_stack(x)\n",
    "        return logits\n",
    "\n",
    "# now create an instance of our newly created Model Class and move i to device and see its structure.\n",
    "model = Model().to(device)\n",
    "model"
   ]
  },
  {
   "cell_type": "code",
   "execution_count": 158,
   "metadata": {},
   "outputs": [
    {
     "name": "stdout",
     "output_type": "stream",
     "text": [
      "tensor([[-0.0498, -0.0433, -0.0167, -0.0227, -0.0359,  0.0827,  0.0792, -0.0226,\n",
      "         -0.0303,  0.0251],\n",
      "        [-0.0673, -0.0375, -0.0102,  0.0468, -0.0761,  0.0800,  0.0755, -0.0056,\n",
      "          0.0378,  0.0400],\n",
      "        [-0.0100, -0.0157, -0.0503,  0.0017, -0.0518,  0.0727,  0.0736, -0.0417,\n",
      "          0.0123,  0.0229]], device='cuda:0', grad_fn=<AddmmBackward0>)\n",
      "tensor([[0.0954, 0.0960, 0.0986, 0.0980, 0.0967, 0.1089, 0.1085, 0.0980, 0.0972,\n",
      "         0.1028],\n",
      "        [0.0926, 0.0954, 0.0980, 0.1038, 0.0918, 0.1073, 0.1068, 0.0985, 0.1028,\n",
      "         0.1031],\n",
      "        [0.0988, 0.0982, 0.0949, 0.0999, 0.0947, 0.1073, 0.1074, 0.0957, 0.1010,\n",
      "         0.1021]], device='cuda:0', grad_fn=<SoftmaxBackward0>)\n",
      "tensor(5, device='cuda:0')\n",
      "tensor(5, device='cuda:0')\n",
      "tensor(5, device='cuda:0')\n",
      "tensor(6, device='cuda:0')\n"
     ]
    }
   ],
   "source": [
    "# to use the model, we pass the input data, this executes the model's forward\n",
    "# DO NOT CALL model.forward() DIRECTLY.\n",
    "\n",
    "x = torch.rand(3, 28, 28, device=device)\n",
    "logits = model(x)\n",
    "print(logits)\n",
    "\n",
    "pred_probs = nn.Softmax(dim=1)(logits)\n",
    "print(pred_probs)\n",
    "\n",
    "y_pred = torch.argmax(pred_probs) # Returns the indices of the maximum value of ALL elements in the input tensor.\n",
    "print(y_pred)\n",
    "\n",
    "# for a batch input data\n",
    "for each in pred_probs:\n",
    "    print(torch.argmax(each))"
   ]
  },
  {
   "cell_type": "code",
   "execution_count": 175,
   "metadata": {},
   "outputs": [
    {
     "name": "stdout",
     "output_type": "stream",
     "text": [
      "Model(\n",
      "  (flatten): Flatten(start_dim=1, end_dim=-1)\n",
      "  (linear_relu_stack): Sequential(\n",
      "    (0): Linear(in_features=784, out_features=512, bias=True)\n",
      "    (1): ReLU()\n",
      "    (2): Linear(in_features=512, out_features=512, bias=True)\n",
      "    (3): ReLU()\n",
      "    (4): Linear(in_features=512, out_features=10, bias=True)\n",
      "  )\n",
      ")\n",
      "####################################################################################################\n",
      "linear_relu_stack.0.weight\n",
      "torch.Size([512, 784])\n",
      "tensor([[ 0.0129, -0.0279, -0.0043,  ..., -0.0027,  0.0242, -0.0286],\n",
      "        [-0.0167, -0.0013,  0.0223,  ...,  0.0124, -0.0235, -0.0090]],\n",
      "       device='cuda:0', grad_fn=<SliceBackward0>)\n",
      " --------------------------------------------------\n",
      "linear_relu_stack.0.bias\n",
      "torch.Size([512])\n",
      "tensor([-0.0268,  0.0225], device='cuda:0', grad_fn=<SliceBackward0>)\n",
      " --------------------------------------------------\n",
      "linear_relu_stack.2.weight\n",
      "torch.Size([512, 512])\n",
      "tensor([[-0.0190, -0.0112,  0.0250,  ..., -0.0148,  0.0160, -0.0221],\n",
      "        [-0.0122,  0.0218,  0.0026,  ..., -0.0205, -0.0418,  0.0378]],\n",
      "       device='cuda:0', grad_fn=<SliceBackward0>)\n",
      " --------------------------------------------------\n",
      "linear_relu_stack.2.bias\n",
      "torch.Size([512])\n",
      "tensor([-0.0349,  0.0383], device='cuda:0', grad_fn=<SliceBackward0>)\n",
      " --------------------------------------------------\n",
      "linear_relu_stack.4.weight\n",
      "torch.Size([10, 512])\n",
      "tensor([[-0.0234, -0.0013, -0.0124,  ..., -0.0043,  0.0060, -0.0300],\n",
      "        [-0.0411,  0.0219, -0.0309,  ..., -0.0346, -0.0364,  0.0336]],\n",
      "       device='cuda:0', grad_fn=<SliceBackward0>)\n",
      " --------------------------------------------------\n",
      "linear_relu_stack.4.bias\n",
      "torch.Size([10])\n",
      "tensor([ 0.0321, -0.0113], device='cuda:0', grad_fn=<SliceBackward0>)\n",
      " --------------------------------------------------\n"
     ]
    }
   ],
   "source": [
    "# model parameters() and named_parameters()\n",
    "# 1st will give (param)\n",
    "# 2nd will give (name, param)\n",
    "\n",
    "print(model)\n",
    "print(\"#\"*100)\n",
    "\n",
    "# for param in model.parameters():\n",
    "#     print(f\"{param.shape}\\n{param[:2]}\\n\", \"-\"*50)\n",
    "\n",
    "# print(\"#\"*100)\n",
    "\n",
    "for name, param in model.named_parameters():\n",
    "    print(f\"{name}\\n{param.shape}\\n{param[:2]}\\n\", \"-\"*50)\n",
    "\n",
    "# here we wil only see the weights and biases for only linear sub module\n",
    "# other dont have anything > no param."
   ]
  },
  {
   "cell_type": "markdown",
   "metadata": {},
   "source": [
    "### Automatic Differentiation with \"torch.autograd\""
   ]
  },
  {
   "cell_type": "code",
   "execution_count": 181,
   "metadata": {},
   "outputs": [
    {
     "name": "stdout",
     "output_type": "stream",
     "text": [
      "tensor([[0.0064, 0.6173, 0.8928, 0.9064, 0.6494],\n",
      "        [0.8565, 0.8730, 0.3878, 0.9410, 0.8413]])\n",
      "tensor([[ 0.4959,  0.5225, -0.7898,  0.1953, -0.9847],\n",
      "        [ 1.7296, -0.2732,  0.8624,  1.2395, -0.9022]])\n"
     ]
    }
   ],
   "source": [
    "# torch.rand:  reutrns a tensor of random numbers from uniform distribution on interval [0,1)\n",
    "# torch.randn: returns a tensor of random numbers from a normal distribution [mean=0, variance=1]\n",
    "\n",
    "print(torch.rand(2,5))\n",
    "print(torch.randn(2,5))"
   ]
  },
  {
   "cell_type": "code",
   "execution_count": 188,
   "metadata": {},
   "outputs": [],
   "source": [
    "# https://pytorch.org/tutorials/beginner/basics/autogradqs_tutorial.html\n",
    "\n",
    "# when training a NN, most freq used algo is back-propagation, \n",
    "# in which we adjust the parameters according to the gradient of the loss function with respect to the given param.\n",
    "# \n",
    "# To compute these gradients, pytorch has built in differentiation engine called \"torch.autograd\"\n",
    "\n",
    "x = torch.rand(5)\n",
    "y = torch.zeros(3)\n",
    "\n",
    "w = torch.randn(5,3, requires_grad=True)\n",
    "b = torch.randn(3, requires_grad=True)\n",
    "\n",
    "z = x@w + b\n",
    "\n",
    "loss = torch.nn.functional.binary_cross_entropy_with_logits(z, y)"
   ]
  },
  {
   "cell_type": "code",
   "execution_count": 189,
   "metadata": {},
   "outputs": [
    {
     "name": "stdout",
     "output_type": "stream",
     "text": [
      "tensor([[0.0876, 0.1298, 0.1785],\n",
      "        [0.0259, 0.0383, 0.0527],\n",
      "        [0.0204, 0.0302, 0.0415],\n",
      "        [0.0921, 0.1363, 0.1876],\n",
      "        [0.1025, 0.1519, 0.2089]])\n",
      "tensor([0.1103, 0.1634, 0.2248])\n"
     ]
    }
   ],
   "source": [
    "# Computing Gradients\n",
    "\n",
    "# to optimize weights of parameters, we need to compute the derivative of loss fn with respecte to these parameters.\n",
    "# we need del(loss)/del(w)  and   del(loss)/del(b) under some fixed values of x, y.\n",
    "\n",
    "\n",
    "# to compute those derivatives we call \n",
    "loss.backward() \n",
    "#and then retrieve the values from\n",
    "print(w.grad)\n",
    "print(b.grad)"
   ]
  },
  {
   "cell_type": "code",
   "execution_count": 191,
   "metadata": {},
   "outputs": [
    {
     "name": "stdout",
     "output_type": "stream",
     "text": [
      "True\n",
      "False\n",
      "True\n",
      "False\n"
     ]
    }
   ],
   "source": [
    "# Disabling Gradient Tracking\n",
    "\n",
    "# by default, all the 'requires_grad=True' tensors trakk their computational history.\n",
    "# But when we do not need to do that, (i.e. model inferencing when it is already trained), \n",
    "# we use 1) torch.no_grad()\n",
    "#        2) param.detach()\n",
    "\n",
    "z = x@w + b\n",
    "print(z.requires_grad)\n",
    "with torch.no_grad():\n",
    "    z = x@w + b\n",
    "print(z.requires_grad)\n",
    "\n",
    "z = x@w + b\n",
    "print(z.requires_grad)\n",
    "z = z.detach()\n",
    "print(z.requires_grad)\n"
   ]
  },
  {
   "cell_type": "markdown",
   "metadata": {},
   "source": [
    "## Optmizing Model Parameters"
   ]
  },
  {
   "cell_type": "code",
   "execution_count": null,
   "metadata": {},
   "outputs": [],
   "source": [
    "# Loss function\n",
    "# Common Loss Functions:\n",
    "# nn.MSELoss > Man Square Error > Regression Tasks\n",
    "# nn.NLLLoss > NEgative Log Likelyhood > Classification Tasks\n",
    "# nn.CrossEntropyLoss > Combination of [nn.LogsoftMax and nn.NLLLoss]\n",
    "loss_fn = nn.CrossEntropyLoss()\n",
    "\n",
    "# Optimizer\n",
    "# Process of adjusting model params in each training step\n",
    "# SGD, Adam, RMSProp,....\n",
    "optimizer = torch.optim.SGD(model.parameters(), lr=0.001)\n",
    "\n",
    "\n",
    "\n",
    "# inside training loop, optimization happens in 3 steps:\n",
    "\n",
    "# reset the gradient of model params.\n",
    "# gradients by default add up. To prevent double counting, we expliciltely zero them at each iteration.\n",
    "optimizer.zero_grad()  \n",
    "\n",
    "# Backpropagate the prediction loss. \n",
    "# Pytorch deposits the gradients of the loss w.r.t each param.\n",
    "loss.backward()\n",
    "\n",
    "# once we have gradients, we call optimze.step() to adjust the params by the gradients collected in the backward pass.\n",
    "optimizer.step()"
   ]
  },
  {
   "cell_type": "markdown",
   "metadata": {},
   "source": [
    "## Save the Load the Model"
   ]
  },
  {
   "cell_type": "code",
   "execution_count": null,
   "metadata": {},
   "outputs": [],
   "source": [
    "# pytorch models store the learned params in an internal state dictionay\n",
    "# called, 'state_dict'\n",
    "torch.save(model.state_dict(), \"/path/to/save/model.pth\")\n",
    "\n",
    "# To load a model\n",
    "# 1. Need the skeleton/architecture of the model\n",
    "# 2. Need currespnding weights of this architecture.\n",
    "\n",
    "model = Model()\n",
    "model.load_state_dict(torch.load('model.pth', weights_only=True))\n",
    "model.eval()\n",
    "\n",
    "# setting weights_only=True is a good practice.\n",
    "# more on: https://github.com/pytorch/pytorch/blob/main/SECURITY.md#untrusted-models\n",
    "# To limit the functions executed during unpickling to only those necessary for loading weights.\n",
    "# i.e. model.pth might have 1) weights 2) optimzer 3) learning_rate 4)....\n",
    "# while saving if we use only state_dict() then these will not other tensors.\n",
    "\n",
    "# setting model.eval() before inferencing: Set the Dropout and batch normalization layers to evaluation mode.\n",
    "# Failing to do this will result in inconsistent inference results.\n"
   ]
  },
  {
   "cell_type": "code",
   "execution_count": 195,
   "metadata": {},
   "outputs": [
    {
     "name": "stderr",
     "output_type": "stream",
     "text": [
      "/tmp/ipykernel_1156259/3678374834.py:4: FutureWarning: You are using `torch.load` with `weights_only=False` (the current default value), which uses the default pickle module implicitly. It is possible to construct malicious pickle data which will execute arbitrary code during unpickling (See https://github.com/pytorch/pytorch/blob/main/SECURITY.md#untrusted-models for more details). In a future release, the default value for `weights_only` will be flipped to `True`. This limits the functions that could be executed during unpickling. Arbitrary objects will no longer be allowed to be loaded via this mode unless they are explicitly allowlisted by the user via `torch.serialization.add_safe_globals`. We recommend you start setting `weights_only=True` for any use case where you don't have full control of the loaded file. Please open an issue on GitHub for any issues related to this experimental feature.\n",
      "  m3 = torch.load('model.pth')\n"
     ]
    },
    {
     "data": {
      "text/plain": [
       "Model(\n",
       "  (flatten): Flatten(start_dim=1, end_dim=-1)\n",
       "  (linear_relu_stack): Sequential(\n",
       "    (0): Linear(in_features=784, out_features=512, bias=True)\n",
       "    (1): ReLU()\n",
       "    (2): Linear(in_features=512, out_features=512, bias=True)\n",
       "    (3): ReLU()\n",
       "    (4): Linear(in_features=512, out_features=10, bias=True)\n",
       "  )\n",
       ")"
      ]
     },
     "execution_count": 195,
     "metadata": {},
     "output_type": "execute_result"
    }
   ],
   "source": [
    "# Saving model skeleton/architecture as well.\n",
    "# instead of passing model.state_dict, pass model\n",
    "torch.save(model, 'model.pth')\n",
    "m3 = torch.load('model.pth')\n",
    "m3\n",
    "\n",
    "# This approach uses Python pickle module when serializing the model, \n",
    "# thus it relies on the actual class definition to be available when loading the model."
   ]
  }
 ],
 "metadata": {
  "kernelspec": {
   "display_name": "Python 3",
   "language": "python",
   "name": "python3"
  },
  "language_info": {
   "codemirror_mode": {
    "name": "ipython",
    "version": 3
   },
   "file_extension": ".py",
   "mimetype": "text/x-python",
   "name": "python",
   "nbconvert_exporter": "python",
   "pygments_lexer": "ipython3",
   "version": "3.10.undefined"
  }
 },
 "nbformat": 4,
 "nbformat_minor": 2
}
